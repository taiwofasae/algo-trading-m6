{
 "cells": [
  {
   "cell_type": "code",
   "execution_count": null,
   "id": "fcdbd47b",
   "metadata": {},
   "outputs": [],
   "source": [
    "import pandas as pd\n",
    "pd.set_option('display.max_rows',500)\n",
    "import numpy as np\n",
    "\n",
    "import matplotlib.pyplot as plt\n",
    "import seaborn as sns\n",
    "sns.set_style('whitegrid')\n",
    "plt.style.use(\"fivethirtyeight\")\n",
    "%matplotlib inline\n",
    "\n",
    "# For reading stock data from yahoo\n",
    "import pandas_datareader.data as pdr\n",
    "from pandas_datareader.data import DataReader\n",
    "import yfinance as yf\n",
    "\n",
    "# For time stamps\n",
    "import datetime"
   ]
  },
  {
   "cell_type": "code",
   "execution_count": null,
   "id": "a3657a26",
   "metadata": {
    "scrolled": true
   },
   "outputs": [],
   "source": [
    "# download stocks\n",
    "file = pd.read_csv('M6_Universe.csv')\n",
    "stocks_list = file['symbol'].values.tolist()\n",
    "\n",
    "start = datetime.datetime(2022,9,18)\n",
    "far_back = start - datetime.timedelta(days=6)\n",
    "end = datetime.datetime(2022,10,9)\n",
    "\n",
    "submission_file = 'submission.csv'"
   ]
  },
  {
   "cell_type": "markdown",
   "id": "09eb3dfb",
   "metadata": {},
   "source": [
    "## Download 100 assets"
   ]
  },
  {
   "cell_type": "code",
   "execution_count": null,
   "id": "151d8485",
   "metadata": {},
   "outputs": [],
   "source": [
    "all_stocks = DataReader(stocks_list, 'yahoo', far_back, end)['Adj Close']\n",
    "all_stocks.describe()"
   ]
  },
  {
   "cell_type": "code",
   "execution_count": null,
   "id": "e42460ee",
   "metadata": {
    "scrolled": true
   },
   "outputs": [],
   "source": [
    "# get previous day closing price\n",
    "current_date = start\n",
    "current_col = current_date.strftime('%Y-%m-%d')\n",
    "while current_col not in all_stocks.T.columns: # checks if current date is trading day (ie exist in stocks time stamp)\n",
    "    current_date = current_date - datetime.timedelta(days=1)\n",
    "    current_col = current_date.strftime('%Y-%m-%d')\n",
    "    if current_date < far_back:\n",
    "        print(\"Shouldn't have got this far\")\n",
    "        error\n",
    "    \n",
    "\n",
    "\n",
    "all_stocks = all_stocks[all_stocks.index >= current_date]\n",
    "all_stocks = all_stocks[all_stocks.index <= end]\n",
    "all_stocks"
   ]
  },
  {
   "cell_type": "code",
   "execution_count": null,
   "id": "724c3ed3",
   "metadata": {},
   "outputs": [],
   "source": [
    "current_date, end"
   ]
  },
  {
   "cell_type": "code",
   "execution_count": null,
   "id": "270db27f",
   "metadata": {},
   "outputs": [],
   "source": [
    "start = current_date\n",
    "start_col = start.strftime('%Y-%m-%d')\n",
    "end_col = all_stocks.dropna(axis=0, thresh=50).T.columns[-1].strftime('%Y-%m-%d')\n",
    "start_col, end_col"
   ]
  },
  {
   "cell_type": "code",
   "execution_count": null,
   "id": "2857199f",
   "metadata": {},
   "outputs": [],
   "source": [
    "# extract total returns\n",
    "\n",
    "total_returns = all_stocks.T[[start_col,end_col]].T.pct_change().round(4).T[[end_col]]\n",
    "total_returns"
   ]
  },
  {
   "cell_type": "code",
   "execution_count": null,
   "id": "400379ca",
   "metadata": {},
   "outputs": [],
   "source": [
    "# extract total ranks\n",
    "def generate_rank(df):\n",
    "    ranks = pd.DataFrame(index=df.index, columns=df.columns)\n",
    "    vector_ranks = pd.DataFrame(index=df.index, columns=df.columns)\n",
    "    \n",
    "    for col in df.columns:\n",
    "        if df[col].isnull().all():\n",
    "            continue\n",
    "        ranks[col], vector_ranks[col] = generate_rank_from_values(df[col].values)\n",
    "        \n",
    "    return ranks, vector_ranks\n",
    "\n",
    "def generate_rank_from_values(value_list):\n",
    "    if len(value_list) != 100:\n",
    "        print('Values list not 100 in number')\n",
    "        return\n",
    "    df = pd.DataFrame(value_list, columns=['data'])\n",
    "    orig_index = df.index\n",
    "    #df[241] = [random.randint(1,20) for i in range(100)]\n",
    "    df = df.sort_values('data',ascending=False)\n",
    "    df['my100rank'] = range(100,0,-1)\n",
    "    df['my5rank'] = [5]*20 + [4]*20 + [3]*20 + [2]*20 + [1]*20\n",
    "    df['pyrank'] = df['data'].rank()\n",
    "    df['5rank'] = pd.qcut(df['data'], 5, labels=False, precision=1) + 1\n",
    "    df['diff'] = df['my5rank'] != df['5rank']\n",
    "    uniq_ranks = df[df['diff'] == True]['pyrank'].unique()\n",
    "    df['adjusted5rank'] = df['my5rank']\n",
    "    df['rankvector'] = np.nan\n",
    "    \n",
    "    df = df.join(pd.get_dummies(df['my5rank']))\n",
    "    \n",
    "    \n",
    "    # ties on the margins of the classes\n",
    "    for rank in uniq_ranks:\n",
    "        rank_index = df[df['pyrank']==rank].index\n",
    "        population = df['my5rank'][rank_index]\n",
    "        df.loc[rank_index,'adjusted5rank'] = round(population.mean(),2)\n",
    "        for p in population:\n",
    "            df.loc[rank_index, p] = round(sum(population == p) / len(population),2)\n",
    "            \n",
    "    \n",
    "    \n",
    "    #print(df.to_string())\n",
    "    ranks = df['adjusted5rank'][orig_index].values.tolist()\n",
    "    vector_ranks = []\n",
    "    for index, row in df.loc[orig_index].iterrows():\n",
    "        vector_ranks.append([row[1],row[2],row[3],row[4],row[5]])\n",
    "    \n",
    "    # clean house\n",
    "    for p in [1,2,3,4,5]:\n",
    "        df[f'Rank {p}'] = df[p]\n",
    "    df = df.drop(columns=[1,2,3,4,5])\n",
    "    return ranks, vector_ranks\n",
    "\n",
    "ranks, vector_ranks = generate_rank(total_returns)\n",
    "ranks"
   ]
  },
  {
   "cell_type": "code",
   "execution_count": null,
   "id": "23977abc",
   "metadata": {},
   "outputs": [],
   "source": [
    "vector_ranks"
   ]
  },
  {
   "cell_type": "code",
   "execution_count": null,
   "id": "d02720f9",
   "metadata": {},
   "outputs": [],
   "source": [
    "# Forecast Performance\n",
    "\n",
    "def RPS(df, predictions):\n",
    "    result = pd.DataFrame(index=df.index, columns=df.columns)\n",
    "    \n",
    "    for col in df.columns:\n",
    "        if df[col].isnull().all():\n",
    "            continue\n",
    "        result[col] = RPS_T(df[col].values, predictions)\n",
    "        \n",
    "    return result\n",
    "\n",
    "def RPS_T(actual, predictions):\n",
    "    result = []\n",
    "    for x,y in zip(actual, predictions):\n",
    "        result.append(RPS_i_T(x,y))\n",
    "        \n",
    "    return result\n",
    "\n",
    "def RPS_i_T(actual, predictions):\n",
    "    actual, predictions = np.array(actual), np.array(predictions)\n",
    "    return np.mean((predictions - actual) ** 2)"
   ]
  },
  {
   "cell_type": "code",
   "execution_count": null,
   "id": "88cd3f0b",
   "metadata": {},
   "outputs": [],
   "source": [
    "# load forecast ranks from file\n",
    "file = pd.read_csv(submission_file)\n",
    "file['Symbols'] = file[file.columns[0]]\n",
    "forecast_vranks = vector_ranks.copy().T\n",
    "\n",
    "for index,row in file.iterrows():\n",
    "    ticker = row['Symbols']\n",
    "    ranks = [row['Rank 1'], row['Rank 2'], row['Rank 3'], row['Rank 4'], row['Rank 5']]\n",
    "    forecast_vranks[ticker] = [ranks]\n",
    "\n",
    "forecast_vranks = forecast_vranks.T\n",
    "forecast_vranks"
   ]
  },
  {
   "cell_type": "code",
   "execution_count": null,
   "id": "ad76ae1a",
   "metadata": {},
   "outputs": [],
   "source": [
    "rps = np.mean(RPS_T(vector_ranks[end_col].values.tolist(), forecast_vranks[end_col].values.tolist()))\n",
    "rps"
   ]
  },
  {
   "cell_type": "markdown",
   "id": "6aadedcf",
   "metadata": {},
   "source": [
    "### Portfolio performance"
   ]
  },
  {
   "cell_type": "code",
   "execution_count": null,
   "id": "1b4a3d3a",
   "metadata": {},
   "outputs": [],
   "source": [
    "# load portfolio strategy from file\n",
    "strategy = pd.read_csv(submission_file)\n",
    "strategy['Symbols'] = strategy[strategy.columns[0]]\n",
    "strategy = strategy.set_index('Symbols')[['Decision']]\n",
    "strategy"
   ]
  },
  {
   "cell_type": "code",
   "execution_count": null,
   "id": "2e99b372",
   "metadata": {},
   "outputs": [],
   "source": [
    "# evaluate daily returns\n",
    "\n",
    "daily_returns = all_stocks[all_stocks.index >= start].dropna(axis=0, how='all').pct_change().round(4).T\n",
    "\n",
    "decision = strategy['Decision']\n",
    "portfolio_returns = daily_returns.copy()\n",
    "for col in portfolio_returns.columns:\n",
    "    portfolio_returns[col] = portfolio_returns[col] * decision.T\n",
    "\n",
    "portfolio_returns.loc['Total'] = portfolio_returns.sum()\n",
    "RET = portfolio_returns.loc[['Total'],:]\n",
    "RET\n",
    "\n",
    "ret = np.log(1 + RET).T\n",
    "total_ret = np.sum(ret.values)\n",
    "total_ret\n",
    "\n",
    "sdp = np.std(ret.values)\n",
    "sdp\n",
    "\n",
    "ir = total_ret / sdp\n",
    "(total_ret, sdp, ir)"
   ]
  },
  {
   "cell_type": "code",
   "execution_count": null,
   "id": "da486a97",
   "metadata": {},
   "outputs": [],
   "source": [
    "RET"
   ]
  },
  {
   "cell_type": "code",
   "execution_count": null,
   "id": "a465ab34",
   "metadata": {},
   "outputs": [],
   "source": [
    "(start_col, end_col, rps, ir)"
   ]
  },
  {
   "cell_type": "code",
   "execution_count": null,
   "id": "0e7967c5",
   "metadata": {},
   "outputs": [],
   "source": []
  }
 ],
 "metadata": {
  "kernelspec": {
   "display_name": "Python 3 (ipykernel)",
   "language": "python",
   "name": "python3"
  },
  "language_info": {
   "codemirror_mode": {
    "name": "ipython",
    "version": 3
   },
   "file_extension": ".py",
   "mimetype": "text/x-python",
   "name": "python",
   "nbconvert_exporter": "python",
   "pygments_lexer": "ipython3",
   "version": "3.10.11"
  }
 },
 "nbformat": 4,
 "nbformat_minor": 5
}
