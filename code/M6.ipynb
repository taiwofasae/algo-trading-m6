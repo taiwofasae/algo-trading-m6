{
 "cells": [
  {
   "cell_type": "code",
   "execution_count": null,
   "metadata": {},
   "outputs": [],
   "source": [
    "import pandas as pd\n",
    "pd.set_option('display.max_rows',500)\n",
    "import numpy as np\n",
    "\n",
    "import matplotlib.pyplot as plt\n",
    "import seaborn as sns\n",
    "sns.set_style('whitegrid')\n",
    "plt.style.use(\"fivethirtyeight\")\n",
    "%matplotlib inline\n",
    "\n",
    "# For reading stock data from yahoo\n",
    "import pandas_datareader.data as pdr\n",
    "from pandas_datareader.data import DataReader\n",
    "import yfinance as yf\n",
    "\n",
    "# For time stamps\n",
    "import datetime"
   ]
  },
  {
   "cell_type": "code",
   "execution_count": null,
   "metadata": {},
   "outputs": [],
   "source": [
    "\n",
    "# download stocks\n",
    "file = pd.read_csv('M6_Universe.csv')\n",
    "stocks_list = file['symbol'].values.tolist()\n",
    "\n",
    "end = datetime.datetime.now()\n",
    "start = datetime.datetime(end.year - 3, end.month, end.day)\n",
    "\n",
    "last_month_days = []\n",
    "for year in range(start.year, end.year+1):\n",
    "    for month in range(1,13):\n",
    "        first_day = datetime.datetime(year, month, 1)\n",
    "        prev_day = first_day - datetime.timedelta(days=1)\n",
    "        last_month_days += [prev_day.strftime('%Y-%m-%d')]\n",
    "last_month_days"
   ]
  },
  {
   "cell_type": "code",
   "execution_count": null,
   "metadata": {},
   "outputs": [],
   "source": [
    "all_stocks = DataReader(stocks_list, 'yahoo', start, end)['Adj Close']\n",
    "spy = DataReader(['SPY'], 'yahoo', start, end)['Adj Close']\n",
    "\n",
    "marketCaps = pdr.get_quote_yahoo(stocks_list)['marketCap']\n",
    "all_stocks.describe()"
   ]
  },
  {
   "cell_type": "code",
   "execution_count": null,
   "metadata": {},
   "outputs": [],
   "source": [
    "# extract monthly stock prices\n",
    "month_stocks = all_stocks.copy()\n",
    "month_stocks['Datestring'] = month_stocks.index\n",
    "    \n",
    "month_stocks['year'] = pd.DatetimeIndex(month_stocks.index).year\n",
    "month_stocks['month'] = pd.DatetimeIndex(month_stocks.index).month\n",
    "\n",
    "month_on_month = month_stocks.sort_values(by='Date').groupby(['year','month']).last()\n",
    "month_on_month = month_on_month.drop(month_on_month.tail(1).index).set_index(['Datestring'])\n",
    "\n",
    "month_on_month"
   ]
  },
  {
   "cell_type": "code",
   "execution_count": null,
   "metadata": {},
   "outputs": [],
   "source": [
    "monthly_returns = month_on_month.pct_change().round(3).T\n",
    "monthly_returns"
   ]
  },
  {
   "cell_type": "code",
   "execution_count": null,
   "metadata": {},
   "outputs": [],
   "source": [
    "# Rank generator helpers (pandas ranking does not handle ties on margins of classes as explained in M6 description)\n",
    "def generate_rank(df):\n",
    "    ranks = pd.DataFrame(index=df.index, columns=df.columns)\n",
    "    vector_ranks = pd.DataFrame(index=df.index, columns=df.columns)\n",
    "    \n",
    "    for col in df.columns:\n",
    "        if df[col].isnull().all():\n",
    "            continue\n",
    "        ranks[col], vector_ranks[col] = generate_rank_from_values(df[col].values)\n",
    "        \n",
    "    return ranks, vector_ranks\n",
    "\n",
    "def generate_rank_from_values(value_list):\n",
    "    if len(value_list) != 100:\n",
    "        print('Values list not 100 in number')\n",
    "        return\n",
    "    df = pd.DataFrame(value_list, columns=['data'])\n",
    "    orig_index = df.index\n",
    "    #df[241] = [random.randint(1,20) for i in range(100)]\n",
    "    df = df.sort_values('data',ascending=False)\n",
    "    df['my100rank'] = range(100,0,-1)\n",
    "    df['my5rank'] = [5]*20 + [4]*20 + [3]*20 + [2]*20 + [1]*20\n",
    "    df['pyrank'] = df['data'].rank()\n",
    "    df['5rank'] = pd.qcut(df['data'], 5, labels=False, precision=1) + 1\n",
    "    df['diff'] = df['my5rank'] != df['5rank']\n",
    "    uniq_ranks = df[df['diff'] == True]['pyrank'].unique()\n",
    "    df['adjusted5rank'] = df['my5rank']\n",
    "    df['rankvector'] = np.nan\n",
    "    \n",
    "    df = df.join(pd.get_dummies(df['my5rank']))\n",
    "    \n",
    "    \n",
    "    # ties on the margins of the classes\n",
    "    for rank in uniq_ranks:\n",
    "        rank_index = df[df['pyrank']==rank].index\n",
    "        population = df['my5rank'][rank_index]\n",
    "        df.loc[rank_index,'adjusted5rank'] = round(population.mean(),2)\n",
    "        for p in population:\n",
    "            df.loc[rank_index, p] = round(sum(population == p) / len(population),2)\n",
    "            \n",
    "    \n",
    "    \n",
    "    #print(df.to_string())\n",
    "    ranks = df['adjusted5rank'][orig_index].values.tolist()\n",
    "    vector_ranks = []\n",
    "    for index, row in df.loc[orig_index].iterrows():\n",
    "        vector_ranks.append([row[1],row[2],row[3],row[4],row[5]])\n",
    "    \n",
    "    # clean house\n",
    "    for p in [1,2,3,4,5]:\n",
    "        df[f'Rank {p}'] = df[p]\n",
    "    df = df.drop(columns=[1,2,3,4,5])\n",
    "    return ranks, vector_ranks\n",
    "\n",
    "ranks, vector_ranks = generate_rank(monthly_returns)\n",
    "ranks"
   ]
  },
  {
   "cell_type": "code",
   "execution_count": null,
   "metadata": {},
   "outputs": [],
   "source": [
    "# Peek at last month's data\n",
    "agg_data = month_on_month.T.copy()\n",
    "last_month = agg_data.columns[-1]\n",
    "agg_data = agg_data[[last_month]]\n",
    "\n",
    "agg_data['Last Month Return'] = monthly_returns[last_month]\n",
    "\n",
    "monthly_ranks, monthly_vranks = generate_rank(monthly_returns)\n",
    "\n",
    "agg_data['Last Month Return Rank'] = monthly_ranks[last_month]\n",
    "agg_data['Last Month Return Rank Vector'] = monthly_vranks[last_month]\n",
    "agg_data"
   ]
  },
  {
   "cell_type": "code",
   "execution_count": null,
   "metadata": {},
   "outputs": [],
   "source": [
    "# view of the monthly returns\n",
    "time_span = 40\n",
    "plt.figure(figsize=(16,6))\n",
    "plt.title('Monthly Return')\n",
    "plt.xlabel('Date', fontsize=18)\n",
    "plt.ylabel('Monthly Return', fontsize=18)\n",
    "for stock in stocks_list[:4]:\n",
    "    plt.plot(monthly_returns.T[stock][-time_span:])\n",
    "\n",
    "plt.legend(stocks_list[:4], loc='lower right')\n",
    "plt.show()"
   ]
  },
  {
   "cell_type": "code",
   "execution_count": null,
   "metadata": {},
   "outputs": [],
   "source": [
    "# monthly return ranks\n",
    "plt.figure(figsize=(16,6))\n",
    "plt.title(f\"Monthly Return Rank for {','.join(stocks_list[:4])}\")\n",
    "plt.xlabel('Date', fontsize=18)\n",
    "plt.ylabel('Monthly Return Rank', fontsize=18)\n",
    "for stock in stocks_list[:4]:\n",
    "    plt.plot(monthly_ranks.T[stock][-60:])\n",
    "\n",
    "plt.legend(stocks_list[:4], loc='lower right')\n",
    "plt.show()"
   ]
  },
  {
   "cell_type": "code",
   "execution_count": null,
   "metadata": {},
   "outputs": [],
   "source": [
    "# Forecast Performance\n",
    "\n",
    "def RPS(df, predictions):\n",
    "    result = pd.DataFrame(index=df.index, columns=df.columns)\n",
    "    \n",
    "    for col in df.columns:\n",
    "        if df[col].isnull().all():\n",
    "            continue\n",
    "        result[col] = RPS_T(df[col].values, predictions)\n",
    "        \n",
    "    return result\n",
    "\n",
    "def RPS_T(actual, predictions):\n",
    "    result = []\n",
    "    for x,y in zip(actual, predictions):\n",
    "        result.append(RPS_i_T(x,y))\n",
    "        \n",
    "    return result\n",
    "\n",
    "def RPS_i_T(actual, predictions):\n",
    "    actual, predictions = np.array(actual), np.array(predictions)\n",
    "    return np.mean((predictions - actual) ** 2)"
   ]
  },
  {
   "cell_type": "code",
   "execution_count": null,
   "metadata": {},
   "outputs": [],
   "source": [
    "# PMF ranks over the previous 36 months to today\n",
    "pmf_vranks = []\n",
    "\n",
    "for row in monthly_ranks.index:\n",
    "    pmf, bins = np.histogram(monthly_ranks.T[row].dropna().values - 0.001, bins = range(0,6), density=True)\n",
    "    pmf_vranks.append(np.round(pmf, 3).tolist())\n",
    "    \n",
    "\n",
    "agg_data['PMF Rank Vector'] = pmf_vranks\n",
    "agg_data['PMF Rank'] = np.dot(np.array(pmf_vranks), np.array(range(1,6)))\n",
    "agg_data['Last Month PMF RPS'] = RPS_T(monthly_vranks[last_month].values.tolist(), pmf_vranks)\n",
    "agg_data\n"
   ]
  },
  {
   "cell_type": "code",
   "execution_count": null,
   "metadata": {},
   "outputs": [],
   "source": [
    "# Monthly Return\n",
    "import random\n",
    "\n",
    "area = np.pi * 20\n",
    "\n",
    "plt.figure(figsize=(10,7))\n",
    "plt.scatter(agg_data['PMF Rank'], agg_data['Last Month Return Rank'], s=area)\n",
    "plt.xlabel('PMF rank')\n",
    "plt.ylabel('Last Month rank')\n",
    "plt.title('Last Month rank vs PMF rank')\n",
    "\n",
    "# y=x line\n",
    "plt.plot(range(6), range(6), 'r-')\n",
    "\n",
    "for label, x, y in zip(agg_data.index, agg_data['PMF Rank'], agg_data['Last Month Return Rank']):\n",
    "    plt.annotate(label, xy=(x,y), xytext=(10+random.randint(-20,20),10+random.randint(-20,20)), \n",
    "        textcoords='offset points', ha='right', va='bottom')\n",
    "    "
   ]
  },
  {
   "cell_type": "markdown",
   "metadata": {},
   "source": [
    "### 'Efficient Market Hypothesis' Investment Decision"
   ]
  },
  {
   "cell_type": "code",
   "execution_count": null,
   "metadata": {},
   "outputs": [],
   "source": [
    "# naive, each stock gets 1% of portfolio\n",
    "daily_ret = all_stocks.pct_change().T.round(3)\n",
    "naive_returns = daily_ret.copy()\n",
    "for col in naive_returns.columns:\n",
    "    naive_returns[col] = naive_returns[col] * 0.01\n",
    "\n",
    "naive_returns.loc['Total'] = naive_returns.sum()"
   ]
  },
  {
   "cell_type": "code",
   "execution_count": null,
   "metadata": {},
   "outputs": [],
   "source": [
    "# today's market cap data, each stock gets % proportional to market cap\n",
    "agg_data['EMH Decision'] = (marketCaps / marketCaps.sum()).round(4)\n",
    "emh_decision = agg_data['EMH Decision']\n",
    "\n",
    "emh_returns = daily_ret.copy()\n",
    "for col in emh_returns.columns:\n",
    "    emh_returns[col] = emh_returns[col] * emh_decision.T\n",
    "\n",
    "emh_returns.loc['Total'] = emh_returns.sum()"
   ]
  },
  {
   "cell_type": "code",
   "execution_count": null,
   "metadata": {},
   "outputs": [],
   "source": [
    "RET = emh_returns.loc[['Total'],:]\n",
    "RET.loc[1,:] = naive_returns.loc['Total',:]\n",
    "RET.index = ['EMH-RET','Naive-RET']\n",
    "\n",
    "ret = RET.T\n",
    "ret['SPY'] = spy['SPY'].pct_change().T.round(3)\n",
    "ret = np.log(1 + ret.T)\n",
    "ret"
   ]
  },
  {
   "cell_type": "code",
   "execution_count": null,
   "metadata": {},
   "outputs": [],
   "source": [
    "monthly_returns = ret.T\n",
    "\n",
    "monthly_returns['Datestring'] = monthly_returns.index\n",
    "    \n",
    "monthly_returns['year'] = pd.DatetimeIndex(monthly_returns.index).year\n",
    "monthly_returns['month'] = pd.DatetimeIndex(monthly_returns.index).month\n",
    "\n",
    "month_cum_returns = monthly_returns.sort_values(by='Date').groupby(['year','month']).sum()\n",
    "\n",
    "month_cum_returns['EMH-RET-sdp'] = monthly_returns.sort_values(by='Date').groupby(['year','month']).std()['EMH-RET']\n",
    "month_cum_returns['Naive-RET-sdp'] = monthly_returns.sort_values(by='Date').groupby(['year','month']).std()['Naive-RET']\n",
    "month_cum_returns['SPY-sdp'] = monthly_returns.sort_values(by='Date').groupby(['year','month']).std()['SPY']\n",
    "\n",
    "month_cum_returns['EMH-RET-IR'] = month_cum_returns['EMH-RET'] / month_cum_returns['EMH-RET-sdp']\n",
    "month_cum_returns['Naive-RET-IR'] = month_cum_returns['Naive-RET'] / month_cum_returns['Naive-RET-sdp']\n",
    "month_cum_returns['SPY-IR'] = month_cum_returns['SPY'] / month_cum_returns['SPY-sdp']\n",
    "\n",
    "month_cum_returns['Datestring'] = monthly_returns.sort_values(by='Date').groupby(['year','month']).last()['Datestring']\n",
    "\n",
    "month_cum_returns = month_cum_returns.drop(month_cum_returns.tail(1).index).set_index(['Datestring'])\n",
    "month_cum_returns"
   ]
  },
  {
   "cell_type": "code",
   "execution_count": null,
   "metadata": {},
   "outputs": [],
   "source": [
    "plt.figure(figsize=(16,6))\n",
    "plt.title(\"Decision Monthly Returns\")\n",
    "plt.xlabel('Month', fontsize=18)\n",
    "plt.ylabel('Monthly return', fontsize=18)\n",
    "\n",
    "\n",
    "plt.axhline(y=0.0, linestyle='-', color='black')\n",
    "plt.plot(month_cum_returns['EMH-RET'])\n",
    "plt.plot(month_cum_returns['Naive-RET'])\n",
    "plt.plot(month_cum_returns['SPY'])\n",
    "\n",
    "plt.legend(['Zero','EMH','Naive','SPY'])\n",
    "\n",
    "plt.show()"
   ]
  },
  {
   "cell_type": "code",
   "execution_count": null,
   "metadata": {},
   "outputs": [],
   "source": [
    "plt.figure(figsize=(16,6))\n",
    "plt.title(\"Decision Monthly Risk\")\n",
    "plt.xlabel('Month', fontsize=18)\n",
    "plt.ylabel('Monthly risk', fontsize=18)\n",
    "\n",
    "\n",
    "plt.axhline(y=0.0, color='k', linestyle='-')\n",
    "plt.plot(month_cum_returns['EMH-RET-sdp'])\n",
    "plt.plot(month_cum_returns['Naive-RET-sdp'])\n",
    "plt.plot(month_cum_returns['SPY-sdp'])\n",
    "\n",
    "\n",
    "plt.legend(['Zero','EMH','Naive','SPY'])\n",
    "\n",
    "plt.show()"
   ]
  },
  {
   "cell_type": "code",
   "execution_count": null,
   "metadata": {},
   "outputs": [],
   "source": [
    "plt.figure(figsize=(16,6))\n",
    "plt.title(\"EMH Decision Monthly Information Ratio\")\n",
    "plt.xlabel('Date', fontsize=18)\n",
    "\n",
    "plt.axhline(y=0.0, color='k', linestyle='-')\n",
    "plt.plot(month_cum_returns['EMH-RET-IR'])\n",
    "plt.plot(month_cum_returns['Naive-RET-IR'])\n",
    "plt.plot(month_cum_returns['SPY-IR'])\n",
    "\n",
    "\n",
    "plt.legend(['Zero','EMH','Naive','SPY'])\n",
    "plt.show()"
   ]
  },
  {
   "cell_type": "code",
   "execution_count": null,
   "metadata": {},
   "outputs": [],
   "source": [
    "pmf_values = np.array([x for x in agg_data['PMF Rank Vector'].values])\n",
    "submission = agg_data.filter('PMF Rank Vector')\n",
    "for i in range(5):\n",
    "    submission[f'Rank {i+1}'] = pmf_values[:,i]\n",
    "    \n",
    "submission['Decision'] = agg_data['EMH Decision']\n",
    "#submission.to_csv('submission.csv')\n",
    "submission"
   ]
  }
 ],
 "metadata": {
  "kernelspec": {
   "display_name": "Python 3 (ipykernel)",
   "language": "python",
   "name": "python3"
  },
  "language_info": {
   "codemirror_mode": {
    "name": "ipython",
    "version": 3
   },
   "file_extension": ".py",
   "mimetype": "text/x-python",
   "name": "python",
   "nbconvert_exporter": "python",
   "pygments_lexer": "ipython3",
   "version": "3.10.6"
  },
  "vscode": {
   "interpreter": {
    "hash": "0a65a281980bfbfb8a543e3e2a3057e1a1da0bd4287670b24f2d6ed5a77e74ab"
   }
  }
 },
 "nbformat": 4,
 "nbformat_minor": 2
}
