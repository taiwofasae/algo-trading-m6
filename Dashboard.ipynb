{
 "cells": [
  {
   "cell_type": "code",
   "execution_count": 1,
   "id": "0f466185-74ae-42d3-bf15-1b2619377d0b",
   "metadata": {},
   "outputs": [],
   "source": [
    "from analytics import dashboard\n",
    "today_live_prices, all_day_prices = dashboard.STORAGE.prices.get()\n",
    "today_live_returns, all_day_returns = dashboard.STORAGE.returns.get()"
   ]
  },
  {
   "cell_type": "code",
   "execution_count": 2,
   "id": "77cd8428-0d55-4230-933e-33034c69fa32",
   "metadata": {},
   "outputs": [
    {
     "data": {
      "text/plain": [
       "({}, [])"
      ]
     },
     "execution_count": 2,
     "metadata": {},
     "output_type": "execute_result"
    }
   ],
   "source": [
    "today_live_prices, all_day_prices"
   ]
  },
  {
   "cell_type": "code",
   "execution_count": 3,
   "id": "5c56d81d-46a5-4e2f-82ca-7d65c0e85695",
   "metadata": {},
   "outputs": [
    {
     "data": {
      "text/plain": [
       "({'timestamp': 1732955924,\n",
       "  '2022-07-23': -0.04457724081293212,\n",
       "  '2022-08-21': 0.0,\n",
       "  '2022-09-18': 0.0},\n",
       " [{'timestamp': 1732955924,\n",
       "   '2022-07-23': -0.04457724081293212,\n",
       "   '2022-08-21': 0.0,\n",
       "   '2022-09-18': 0.0},\n",
       "  {'timestamp': 1732955900,\n",
       "   '2022-07-23': -0.04457724081293212,\n",
       "   '2022-08-21': 0.0,\n",
       "   '2022-09-18': 0.0}])"
      ]
     },
     "execution_count": 3,
     "metadata": {},
     "output_type": "execute_result"
    }
   ],
   "source": [
    "today_live_returns, all_day_returns"
   ]
  }
 ],
 "metadata": {
  "kernelspec": {
   "display_name": "Python 3 (ipykernel)",
   "language": "python",
   "name": "python3"
  },
  "language_info": {
   "codemirror_mode": {
    "name": "ipython",
    "version": 3
   },
   "file_extension": ".py",
   "mimetype": "text/x-python",
   "name": "python",
   "nbconvert_exporter": "python",
   "pygments_lexer": "ipython3",
   "version": "3.10.11"
  }
 },
 "nbformat": 4,
 "nbformat_minor": 5
}
